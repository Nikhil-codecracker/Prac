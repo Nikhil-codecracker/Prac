{
 "cells": [
  {
   "cell_type": "code",
   "execution_count": 1,
   "metadata": {},
   "outputs": [],
   "source": [
    "from keras.layers import *\n",
    "from keras.models import Sequential"
   ]
  },
  {
   "cell_type": "code",
   "execution_count": 2,
   "metadata": {},
   "outputs": [
    {
     "name": "stdout",
     "output_type": "stream",
     "text": [
      "Model: \"sequential\"\n",
      "_________________________________________________________________\n",
      "Layer (type)                 Output Shape              Param #   \n",
      "=================================================================\n",
      "conv2d (Conv2D)              (None, 26, 26, 32)        320       \n",
      "_________________________________________________________________\n",
      "max_pooling2d (MaxPooling2D) (None, 13, 13, 32)        0         \n",
      "_________________________________________________________________\n",
      "conv2d_1 (Conv2D)            (None, 11, 11, 64)        18496     \n",
      "_________________________________________________________________\n",
      "max_pooling2d_1 (MaxPooling2 (None, 5, 5, 64)          0         \n",
      "_________________________________________________________________\n",
      "conv2d_2 (Conv2D)            (None, 3, 3, 64)          36928     \n",
      "_________________________________________________________________\n",
      "flatten (Flatten)            (None, 576)               0         \n",
      "_________________________________________________________________\n",
      "dense (Dense)                (None, 64)                36928     \n",
      "_________________________________________________________________\n",
      "dense_1 (Dense)              (None, 10)                650       \n",
      "=================================================================\n",
      "Total params: 93,322\n",
      "Trainable params: 93,322\n",
      "Non-trainable params: 0\n",
      "_________________________________________________________________\n"
     ]
    }
   ],
   "source": [
    "model = Sequential()\n",
    "model.add(Conv2D(32,(3,3),activation='relu', input_shape=(28,28,1)))\n",
    "model.add(MaxPooling2D((2,2)))\n",
    "\n",
    "model.add(Conv2D(64,(3,3),activation='relu',))\n",
    "model.add(MaxPooling2D((2,2)))\n",
    "\n",
    "model.add(Conv2D(64,(3,3),activation='relu'))\n",
    "\n",
    "model.add(Flatten())\n",
    "model.add(Dense(64,activation='relu'))\n",
    "model.add(Dense(10,activation='softmax'))\n",
    "model.summary()"
   ]
  },
  {
   "cell_type": "code",
   "execution_count": 6,
   "metadata": {},
   "outputs": [],
   "source": [
    "from keras.datasets import mnist\n",
    "from keras.utils.np_utils import to_categorical\n",
    "\n",
    "(X_train,Y_train),(X_test,Y_test) = mnist.load_data()"
   ]
  },
  {
   "cell_type": "code",
   "execution_count": 7,
   "metadata": {},
   "outputs": [],
   "source": [
    "def preprocessing(X,Y):\n",
    "    X = X.reshape((-1,28,28,1))\n",
    "    X = X/255.0\n",
    "    Y = to_categorical(Y)\n",
    "    return X,Y"
   ]
  },
  {
   "cell_type": "code",
   "execution_count": 8,
   "metadata": {},
   "outputs": [],
   "source": [
    "XTrain,YTrain = preprocessing(X_train,Y_train)\n",
    "XTest,YTest = preprocessing(X_test,Y_test)"
   ]
  },
  {
   "cell_type": "code",
   "execution_count": 9,
   "metadata": {},
   "outputs": [
    {
     "data": {
      "text/plain": [
       "(((60000, 28, 28), (60000,)), ((10000, 28, 28), (10000,)))"
      ]
     },
     "execution_count": 9,
     "metadata": {},
     "output_type": "execute_result"
    }
   ],
   "source": [
    "(X_train.shape,Y_train.shape),(X_test.shape,Y_test.shape)"
   ]
  },
  {
   "cell_type": "code",
   "execution_count": 10,
   "metadata": {},
   "outputs": [],
   "source": [
    "model.compile(optimizer='adam',loss='categorical_crossentropy',metrics=['acc'])"
   ]
  },
  {
   "cell_type": "code",
   "execution_count": 11,
   "metadata": {},
   "outputs": [
    {
     "name": "stdout",
     "output_type": "stream",
     "text": [
      "Epoch 1/20\n",
      "50/50 [==============================] - 13s 174ms/step - loss: 1.2679 - acc: 0.5906 - val_loss: 0.4466 - val_acc: 0.8719\n",
      "Epoch 2/20\n",
      "50/50 [==============================] - 7s 134ms/step - loss: 0.3603 - acc: 0.8881 - val_loss: 0.2587 - val_acc: 0.9221\n",
      "Epoch 3/20\n",
      "50/50 [==============================] - 5s 108ms/step - loss: 0.2532 - acc: 0.9219 - val_loss: 0.1773 - val_acc: 0.9482\n",
      "Epoch 4/20\n",
      "50/50 [==============================] - 5s 108ms/step - loss: 0.1716 - acc: 0.9484 - val_loss: 0.1837 - val_acc: 0.9449\n",
      "Epoch 5/20\n",
      "50/50 [==============================] - 5s 106ms/step - loss: 0.1748 - acc: 0.9484 - val_loss: 0.1244 - val_acc: 0.9643\n",
      "Epoch 6/20\n",
      "50/50 [==============================] - 5s 109ms/step - loss: 0.1334 - acc: 0.9575 - val_loss: 0.1202 - val_acc: 0.9651\n",
      "Epoch 7/20\n",
      "50/50 [==============================] - 5s 108ms/step - loss: 0.1335 - acc: 0.9591 - val_loss: 0.1133 - val_acc: 0.9672\n",
      "Epoch 8/20\n",
      "50/50 [==============================] - 5s 109ms/step - loss: 0.1072 - acc: 0.9653 - val_loss: 0.1282 - val_acc: 0.9589\n",
      "Epoch 9/20\n",
      "50/50 [==============================] - 5s 106ms/step - loss: 0.1300 - acc: 0.9597 - val_loss: 0.0926 - val_acc: 0.9731\n",
      "Epoch 10/20\n",
      "50/50 [==============================] - 5s 109ms/step - loss: 0.0865 - acc: 0.9750 - val_loss: 0.0779 - val_acc: 0.9769\n",
      "Epoch 11/20\n",
      "50/50 [==============================] - 6s 122ms/step - loss: 0.0970 - acc: 0.9678 - val_loss: 0.0933 - val_acc: 0.9731\n",
      "Epoch 12/20\n",
      "50/50 [==============================] - 5s 108ms/step - loss: 0.0804 - acc: 0.9762 - val_loss: 0.0751 - val_acc: 0.9766\n",
      "Epoch 13/20\n",
      "50/50 [==============================] - 5s 105ms/step - loss: 0.0819 - acc: 0.9756 - val_loss: 0.0919 - val_acc: 0.9726\n",
      "Epoch 14/20\n",
      "50/50 [==============================] - 5s 104ms/step - loss: 0.0801 - acc: 0.9759 - val_loss: 0.0669 - val_acc: 0.9806\n",
      "Epoch 15/20\n",
      "50/50 [==============================] - 5s 106ms/step - loss: 0.0834 - acc: 0.9722 - val_loss: 0.0667 - val_acc: 0.9808\n",
      "Epoch 16/20\n",
      "50/50 [==============================] - 5s 111ms/step - loss: 0.0601 - acc: 0.9825 - val_loss: 0.0645 - val_acc: 0.9803\n",
      "Epoch 17/20\n",
      "50/50 [==============================] - 6s 112ms/step - loss: 0.0637 - acc: 0.9825 - val_loss: 0.0639 - val_acc: 0.9805\n",
      "Epoch 18/20\n",
      "50/50 [==============================] - 5s 109ms/step - loss: 0.0565 - acc: 0.9819 - val_loss: 0.0639 - val_acc: 0.9822\n",
      "Epoch 19/20\n",
      "50/50 [==============================] - 5s 104ms/step - loss: 0.0567 - acc: 0.9812 - val_loss: 0.0641 - val_acc: 0.9812\n",
      "Epoch 20/20\n",
      "50/50 [==============================] - 5s 105ms/step - loss: 0.0596 - acc: 0.9837 - val_loss: 0.0608 - val_acc: 0.9822\n"
     ]
    }
   ],
   "source": [
    "hist = model.fit(XTrain,YTrain,batch_size=64,epochs=20,validation_split=0.2, steps_per_epoch=50)"
   ]
  },
  {
   "cell_type": "code",
   "execution_count": 12,
   "metadata": {},
   "outputs": [
    {
     "name": "stdout",
     "output_type": "stream",
     "text": [
      "313/313 [==============================] - 2s 7ms/step - loss: 0.0463 - acc: 0.9853\n"
     ]
    },
    {
     "data": {
      "text/plain": [
       "[0.046278152614831924, 0.9853000044822693]"
      ]
     },
     "execution_count": 12,
     "metadata": {},
     "output_type": "execute_result"
    }
   ],
   "source": [
    "model.evaluate(XTest,YTest)"
   ]
  },
  {
   "cell_type": "code",
   "execution_count": 13,
   "metadata": {},
   "outputs": [
    {
     "data": {
      "image/png": "[encoded data removed]",
      "text/plain": [
       "<Figure size 576x396 with 1 Axes>"
      ]
     },
     "metadata": {},
     "output_type": "display_data"
    }
   ],
   "source": [
    "import matplotlib.pyplot as plt\n",
    "\n",
    "plt.style.use('seaborn')\n",
    "plt.plot(hist.history['loss'],label = 'loss',c='blue')\n",
    "plt.plot(hist.history['val_loss'],label = 'Val_loss',c='red')\n",
    "plt.legend()\n",
    "plt.show()"
   ]
  },
  {
   "cell_type": "code",
   "execution_count": null,
   "metadata": {},
   "outputs": [],
   "source": []
  }
 ],
 "metadata": {
  "interpreter": {
   "hash": "cbc1630f6ac27d00c9f4ea5ff59d07a3d2920d2fb3e683b05679c37215caa53f"
  },
  "kernelspec": {
   "display_name": "Python 3.7.1 64-bit",
   "language": "python",
   "name": "python3"
  },
  "language_info": {
   "codemirror_mode": {
    "name": "ipython",
    "version": 3
   },
   "file_extension": ".py",
   "mimetype": "text/x-python",
   "name": "python",
   "nbconvert_exporter": "python",
   "pygments_lexer": "ipython3",
   "version": "3.7.1"
  },
  "orig_nbformat": 4
 },
 "nbformat": 4,
 "nbformat_minor": 2
}
