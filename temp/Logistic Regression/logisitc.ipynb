{
 "cells": [
  {
   "cell_type": "code",
   "execution_count": 1,
   "metadata": {},
   "outputs": [],
   "source": [
    "import numpy as np\n",
    "import pandas as pd\n",
    "import matplotlib.pyplot as plt"
   ]
  },
  {
   "cell_type": "code",
   "execution_count": 3,
   "metadata": {},
   "outputs": [
    {
     "name": "stdout",
     "output_type": "stream",
     "text": [
      "(3000, 3) (3000, 1)\n",
      "(1000, 3)\n"
     ]
    }
   ],
   "source": [
    "X_train = pd.read_csv('./Logistic_X_Train.csv')\n",
    "Y_train = pd.read_csv('./Logistic_Y_Train.csv')\n",
    "X_test = pd.read_csv('./Logistic_X_Test.csv')\n",
    "\n",
    "X_train = np.array(X_train)\n",
    "X_test = np.array(X_test)\n",
    "Y_train = np.array(Y_train)\n",
    "\n",
    "print(X_train.shape,Y_train.shape)\n",
    "print(X_test.shape)\n"
   ]
  },
  {
   "cell_type": "code",
   "execution_count": 4,
   "metadata": {},
   "outputs": [],
   "source": [
    "u = np.mean(X_train,axis=0)\n",
    "std = np.std(X_train,axis=0)\n",
    "\n",
    "X_train = (X_train-u)/std\n",
    "X_test = (X_test-u)/std"
   ]
  },
  {
   "cell_type": "code",
   "execution_count": 5,
   "metadata": {},
   "outputs": [
    {
     "name": "stdout",
     "output_type": "stream",
     "text": [
      "(3000, 4)\n"
     ]
    }
   ],
   "source": [
    "ones = np.ones((X_train.shape[0],1))\n",
    "x = np.hstack((ones,X_train))\n",
    "print(x.shape)"
   ]
  },
  {
   "cell_type": "code",
   "execution_count": 6,
   "metadata": {},
   "outputs": [
    {
     "name": "stdout",
     "output_type": "stream",
     "text": [
      "(1000, 4)\n"
     ]
    }
   ],
   "source": [
    "ones = np.ones((X_test.shape[0],1))\n",
    "x_ = np.hstack((ones,X_test))\n",
    "print(x_.shape)"
   ]
  },
  {
   "cell_type": "code",
   "execution_count": 17,
   "metadata": {},
   "outputs": [],
   "source": [
    "def sigmoid(z):\n",
    "    return 1.0/(1.0+np.exp(-z))\n",
    "\n",
    "def hypothesis(W,X):\n",
    "    return sigmoid(np.dot(X,W))\n",
    "\n",
    "def loss(X,Y,W):\n",
    "    m = X.shape[0]\n",
    "    y_ = hypothesis(W,X)\n",
    "    l = -1*np.mean(Y*np.log(y_) + (1-Y)*np.log(1-y_))\n",
    "\n",
    "    return l\n",
    "\n",
    "def gradient(X,Y,W):\n",
    "    m = X.shape[0]\n",
    "    y_ = hypothesis(W,X)\n",
    "    grad = np.dot(X.T,(y_-Y))\n",
    "\n",
    "    return grad/m\n",
    "\n",
    "def gradient_descent(X,Y,lr=0.1,max_itr=1000):\n",
    "    m,n = X.shape\n",
    "\n",
    "    W = np.zeros((X.shape[1],))\n",
    "    error = []\n",
    "\n",
    "    for i in range(max_itr):\n",
    "        e = loss(X,Y,W)\n",
    "        grad = gradient(X,Y,W)\n",
    "        W = W - lr*grad\n",
    "        error.append(e)\n",
    "    \n",
    "    return error,W"
   ]
  },
  {
   "cell_type": "code",
   "execution_count": 18,
   "metadata": {},
   "outputs": [],
   "source": [
    "Y_train = Y_train.reshape((-1,))\n",
    "error,weights = gradient_descent(x,Y_train)"
   ]
  },
  {
   "cell_type": "code",
   "execution_count": 19,
   "metadata": {},
   "outputs": [
    {
     "data": {
      "image/png": "[encoded data removed]",
      "text/plain": [
       "<Figure size 432x288 with 1 Axes>"
      ]
     },
     "metadata": {
      "needs_background": "light"
     },
     "output_type": "display_data"
    }
   ],
   "source": [
    "plt.plot(error)\n",
    "plt.show()"
   ]
  },
  {
   "cell_type": "code",
   "execution_count": 20,
   "metadata": {},
   "outputs": [],
   "source": [
    "def predict(X,W):\n",
    "    y_ = hypothesis(W,X)\n",
    "    output = np.zeros((X.shape[0],))\n",
    "\n",
    "    output[y_>=0.5] = 1\n",
    "\n",
    "    return output"
   ]
  },
  {
   "cell_type": "code",
   "execution_count": 22,
   "metadata": {},
   "outputs": [
    {
     "name": "stdout",
     "output_type": "stream",
     "text": [
      "[1. 1. 0. 1. 1. 1. 0. 1. 0. 0.]\n"
     ]
    }
   ],
   "source": [
    "y_pred = predict(x_,weights)\n",
    "print(y_pred[:10])"
   ]
  },
  {
   "cell_type": "code",
   "execution_count": null,
   "metadata": {},
   "outputs": [],
   "source": []
  }
 ],
 "metadata": {
  "interpreter": {
   "hash": "cbc1630f6ac27d00c9f4ea5ff59d07a3d2920d2fb3e683b05679c37215caa53f"
  },
  "kernelspec": {
   "display_name": "Python 3.7.1 64-bit",
   "language": "python",
   "name": "python3"
  },
  "language_info": {
   "codemirror_mode": {
    "name": "ipython",
    "version": 3
   },
   "file_extension": ".py",
   "mimetype": "text/x-python",
   "name": "python",
   "nbconvert_exporter": "python",
   "pygments_lexer": "ipython3",
   "version": "3.7.1"
  },
  "orig_nbformat": 4
 },
 "nbformat": 4,
 "nbformat_minor": 2
}
