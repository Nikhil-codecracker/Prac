{
 "cells": [
  {
   "cell_type": "code",
   "execution_count": 1,
   "metadata": {},
   "outputs": [],
   "source": [
    "import numpy as np\n",
    "import pandas as pd\n",
    "import matplotlib.pyplot as plt"
   ]
  },
  {
   "cell_type": "code",
   "execution_count": 5,
   "metadata": {},
   "outputs": [
    {
     "name": "stdout",
     "output_type": "stream",
     "text": [
      "(1600, 6) (400, 5)\n"
     ]
    }
   ],
   "source": [
    "train = pd.read_csv(\"./Train.csv\")\n",
    "test = pd.read_csv(\"./Test.csv\")\n",
    "\n",
    "train = np.array(train)\n",
    "test = np.array(test)\n",
    "\n",
    "print(train.shape,test.shape)"
   ]
  },
  {
   "cell_type": "code",
   "execution_count": 6,
   "metadata": {},
   "outputs": [
    {
     "name": "stdout",
     "output_type": "stream",
     "text": [
      "(1600, 5) (1600,)\n",
      "(400, 5)\n"
     ]
    }
   ],
   "source": [
    "X_train = train[:,:-1]\n",
    "Y_train = train[:,-1]\n",
    "\n",
    "X_test = test\n",
    "\n",
    "print(X_train.shape,Y_train.shape)\n",
    "print(X_test.shape)"
   ]
  },
  {
   "cell_type": "code",
   "execution_count": 7,
   "metadata": {},
   "outputs": [],
   "source": [
    "u = np.mean(X_train,axis=0)\n",
    "std = np.std(X_train,axis=0)\n",
    "X_train = (X_train-u)/std\n",
    "X_test = (X_test-u)/std"
   ]
  },
  {
   "cell_type": "code",
   "execution_count": 8,
   "metadata": {},
   "outputs": [
    {
     "name": "stdout",
     "output_type": "stream",
     "text": [
      "(1600, 6)\n"
     ]
    }
   ],
   "source": [
    "ones = np.ones((X_train.shape[0],1))\n",
    "x_ = np.array(np.hstack((ones,X_train)))\n",
    "print(x_.shape)"
   ]
  },
  {
   "cell_type": "code",
   "execution_count": 17,
   "metadata": {},
   "outputs": [],
   "source": [
    "def hypothesis(X,W):\n",
    "    return np.dot(X,W)\n",
    "\n",
    "def loss(X,Y,W):\n",
    "    m = X.shape[0]\n",
    "    y_ = hypothesis(X,W)\n",
    "    e = np.sum((y_-Y)**2)\n",
    "\n",
    "    return e/m\n",
    "\n",
    "def grad(X,Y,W):\n",
    "    m = X.shape[0]\n",
    "    y_ = hypothesis(X,W)\n",
    "    grad = np.dot(X.T,(y_-Y))\n",
    "\n",
    "    return grad/m\n",
    "\n",
    "def gradient_descent(X,Y,lr=0.05,max_itr=1000):\n",
    "    m,n = X.shape\n",
    "    W = np.zeros((n,))\n",
    "\n",
    "    error = []\n",
    "\n",
    "    for i in range(max_itr):\n",
    "        y_ = hypothesis(X,W)\n",
    "        err = loss(X,Y,W)\n",
    "        error.append(err)\n",
    "\n",
    "        g = grad(X,Y,W)\n",
    "        W = W - lr*g\n",
    "\n",
    "    return W,error"
   ]
  },
  {
   "cell_type": "code",
   "execution_count": 18,
   "metadata": {},
   "outputs": [],
   "source": [
    "weights,loss = gradient_descent(x_,Y_train)"
   ]
  },
  {
   "cell_type": "code",
   "execution_count": 19,
   "metadata": {},
   "outputs": [
    {
     "data": {
      "image/png": "[encoded data removed]",
      "text/plain": [
       "<Figure size 432x288 with 1 Axes>"
      ]
     },
     "metadata": {
      "needs_background": "light"
     },
     "output_type": "display_data"
    }
   ],
   "source": [
    "plt.plot(loss)\n",
    "plt.show()"
   ]
  },
  {
   "cell_type": "code",
   "execution_count": 20,
   "metadata": {},
   "outputs": [
    {
     "name": "stdout",
     "output_type": "stream",
     "text": [
      "(400, 6)\n"
     ]
    }
   ],
   "source": [
    "one = np.ones((X_test.shape[0],1))\n",
    "x_test_ = np.hstack((one,X_test))\n",
    "print(x_test_.shape)"
   ]
  },
  {
   "cell_type": "code",
   "execution_count": 21,
   "metadata": {},
   "outputs": [
    {
     "name": "stdout",
     "output_type": "stream",
     "text": [
      "(400,)\n",
      "[114.58368923 118.01281466 -21.73985233 -43.93689854 -95.91489844]\n"
     ]
    }
   ],
   "source": [
    "y_pred = hypothesis(x_test_,weights)\n",
    "print(y_pred.shape)\n",
    "print(y_pred[:5])"
   ]
  },
  {
   "cell_type": "code",
   "execution_count": null,
   "metadata": {},
   "outputs": [],
   "source": []
  }
 ],
 "metadata": {
  "interpreter": {
   "hash": "cbc1630f6ac27d00c9f4ea5ff59d07a3d2920d2fb3e683b05679c37215caa53f"
  },
  "kernelspec": {
   "display_name": "Python 3.7.1 64-bit",
   "language": "python",
   "name": "python3"
  },
  "language_info": {
   "codemirror_mode": {
    "name": "ipython",
    "version": 3
   },
   "file_extension": ".py",
   "mimetype": "text/x-python",
   "name": "python",
   "nbconvert_exporter": "python",
   "pygments_lexer": "ipython3",
   "version": "3.7.1"
  },
  "orig_nbformat": 4
 },
 "nbformat": 4,
 "nbformat_minor": 2
}
